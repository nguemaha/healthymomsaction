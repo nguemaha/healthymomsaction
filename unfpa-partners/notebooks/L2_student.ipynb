{
 "cells": [
  {
   "cell_type": "markdown",
   "id": "0fa8e492-02ba-4f04-aa53-2aaf34300d67",
   "metadata": {},
   "source": [
    "# L2: Building a Simple Web Agent"
   ]
  },
  {
   "cell_type": "markdown",
   "id": "1cc83466-8acc-4a92-a26d-d7443c80d503",
   "metadata": {},
   "source": [
    "<p style=\"background-color:#fff6e4; padding:15px; border-width:3px; border-color:#f5ecda; border-style:solid; border-radius:6px\"> ⏳ <b>Note <code>(Kernel Starting)</code>:</b> This notebook takes about 30 seconds to be ready to use. You may start and watch the video while you wait.</p>"
   ]
  },
  {
   "cell_type": "code",
   "execution_count": 1,
   "id": "ca01fc5a-2140-4a9e-9d6e-4ab476451c41",
   "metadata": {
    "height": 268
   },
   "outputs": [],
   "source": [
    "import asyncio\n",
    "import json\n",
    "import os\n",
    "import nest_asyncio\n",
    "import pprint\n",
    "import base64\n",
    "from io import BytesIO\n",
    "import pandas as pd\n",
    "from playwright.async_api import async_playwright\n",
    "from openai import OpenAI\n",
    "from PIL import Image\n",
    "from tabulate import tabulate\n",
    "from IPython.display import display, HTML, Markdown\n",
    "from pydantic import BaseModel\n",
    "from dotenv import load_dotenv, find_dotenv"
   ]
  },
  {
   "cell_type": "code",
   "execution_count": 2,
   "id": "1fe0eba6",
   "metadata": {},
   "outputs": [],
   "source": [
    "def load_env():\n",
    "    _ = load_dotenv(find_dotenv())\n",
    "\n",
    "\n",
    "def get_openai_api_key():\n",
    "    load_env()\n",
    "    openai_api_key = os.getenv(\"OPENAI_API_KEY\")\n",
    "    return openai_api_key\n",
    "\n",
    "\n",
    "def get_openai_client():\n",
    "    openai_api_key = get_openai_api_key()\n",
    "    return OpenAI(api_key=openai_api_key)\n",
    "\n",
    "\n",
    "def get_multi_on_api_key():\n",
    "    load_env()\n",
    "    multi_on_api_key = os.getenv(\"MULTION_API_KEY\")\n",
    "    return multi_on_api_key\n",
    "\n",
    "# Params\n",
    "async def visualizeCourses(result, screenshot, target_url, instructions, base_url):\n",
    "    # Run the async process that returns an instance of DeeplearningCourseList and screenshot bytes\n",
    "\n",
    "    if result:\n",
    "        # Convert each course to a dict (using model_dump from Pydantic v2)\n",
    "        courses_data = [course.model_dump() for course in result.courses]\n",
    "\n",
    "        for course in courses_data:\n",
    "            if course[\"courseURL\"]:\n",
    "                course[\"courseURL\"] = (\n",
    "                    f'<a href=\"{base_url}{course[\"courseURL\"]}\" target=\"_blank\">{course[\"title\"]}</a>'\n",
    "                )\n",
    "\n",
    "        # Build an HTML table if course data is available\n",
    "        if courses_data:\n",
    "            # Extract headers from the first course\n",
    "            headers = courses_data[0].keys()\n",
    "            table_html = '<table style=\"border-collapse: collapse; width: 100%;\">'\n",
    "            table_html += \"<thead><tr>\"\n",
    "            for header in headers:\n",
    "                table_html += (\n",
    "                    f'<th style=\"border: 1px solid #dddddd; text-align: left; padding: 8px;\">'\n",
    "                    f\"{header}</th>\"\n",
    "                )\n",
    "            table_html += \"</tr></thead>\"\n",
    "            table_html += \"<tbody>\"\n",
    "            for course in courses_data:\n",
    "                table_html += \"<tr>\"\n",
    "                for header in headers:\n",
    "                    value = course[header]\n",
    "                    # If the field is \"imageUrl\", embed the image in the table cell\n",
    "                    if header == \"imageUrl\":\n",
    "                        value = (\n",
    "                            f'<img src=\"{value}\" alt=\"Course Image\" '\n",
    "                            f'style=\"max-width:100px; height:auto;\">'\n",
    "                        )\n",
    "                    elif isinstance(value, list):\n",
    "                        value = \", \".join(value)\n",
    "                    table_html += (\n",
    "                        f'<td style=\"border: 1px solid #dddddd; text-align: left; padding: 8px;\">'\n",
    "                        f\"{value}</td>\"\n",
    "                    )\n",
    "                table_html += \"</tr>\"\n",
    "            table_html += \"</tbody></table>\"\n",
    "        else:\n",
    "            table_html = \"<p>No course data available.</p>\"\n",
    "\n",
    "        # Display the course data table\n",
    "        display(Markdown(\"### Scraped Course Data:\"))\n",
    "        display(HTML(table_html))\n",
    "\n",
    "        # Convert the screenshot bytes into a base64 string and embed it in an <img> tag\n",
    "        img_b64 = base64.b64encode(screenshot).decode(\"utf-8\")\n",
    "        img_html = (\n",
    "            f'<img src=\"data:image/png;base64,{img_b64}\" '\n",
    "            f'alt=\"Website Screenshot\" style=\"max-width:100%; height:auto;\">'\n",
    "        )\n",
    "        display(Markdown(\"### Website Screenshot:\"))\n",
    "        display(HTML(img_html))\n"
   ]
  },
  {
   "cell_type": "markdown",
   "id": "eebc23af-22e8-4382-989a-61ebf6eb0a78",
   "metadata": {},
   "source": [
    "<div style=\"background-color:#fff6ff; padding:13px; border-width:3px; border-color:#efe6ef; border-style:solid; border-radius:6px\">\n",
    "<p> 💻 &nbsp; <b>Access <code>requirements.txt</code> and <code>helper.py</code> files:</b> 1) click on the <em>\"File\"</em> option on the top menu of the notebook and then 2) click on <em>\"Open\"</em>.\n",
    "\n",
    "<p> ⬇ &nbsp; <b>Download Notebooks:</b> 1) click on the <em>\"File\"</em> option on the top menu of the notebook and then 2) click on <em>\"Download as\"</em> and select <em>\"Notebook (.ipynb)\"</em>.</p>\n",
    "\n",
    "<p> 📒 &nbsp; For more help, please see the <em>\"Appendix – Tips, Help, and Download\"</em> Lesson.</p>\n",
    "</div>"
   ]
  },
  {
   "cell_type": "code",
   "execution_count": 3,
   "id": "a7f70669-8fdb-4ca1-83cc-e37843c274be",
   "metadata": {
    "height": 47
   },
   "outputs": [],
   "source": [
    "client = OpenAI(api_key=get_openai_api_key())\n",
    "nest_asyncio.apply()"
   ]
  },
  {
   "cell_type": "markdown",
   "id": "4df7d77e-eb6f-4ca3-bdb1-482201c637e5",
   "metadata": {},
   "source": [
    "## WebScraper Agent"
   ]
  },
  {
   "cell_type": "code",
   "execution_count": 4,
   "id": "4a4e5c82-b0c6-4976-933d-1d10dc967dc2",
   "metadata": {
    "height": 540
   },
   "outputs": [],
   "source": [
    "class WebScraperAgent:\n",
    "    def __init__(self):\n",
    "        self.playwright = None\n",
    "        self.browser = None\n",
    "        self.page = None\n",
    "\n",
    "    async def init_browser(self):\n",
    "      self.playwright = await async_playwright().start()\n",
    "      self.browser = await self.playwright.chromium.launch(\n",
    "          headless=True,\n",
    "          args=[\n",
    "              \"--disable-dev-shm-usage\",\n",
    "              \"--no-sandbox\",\n",
    "              \"--disable-setuid-sandbox\",\n",
    "              \"--disable-accelerated-2d-canvas\",\n",
    "              \"--disable-gpu\",\n",
    "              \"--no-zygote\",\n",
    "              \"--disable-audio-output\",\n",
    "              \"--disable-software-rasterizer\",\n",
    "              \"--disable-webgl\",\n",
    "              \"--disable-web-security\",\n",
    "              \"--disable-features=LazyFrameLoading\",\n",
    "              \"--disable-features=IsolateOrigins\",\n",
    "              \"--disable-background-networking\"\n",
    "          ]\n",
    "      )\n",
    "      self.page = await self.browser.new_page()\n",
    "\n",
    "    async def scrape_content(self, url):\n",
    "        if not self.page or self.page.is_closed():\n",
    "            await self.init_browser()\n",
    "        await self.page.goto(url, wait_until=\"load\")\n",
    "        await self.page.wait_for_timeout(2000)  # Wait for dynamic content\n",
    "        return await self.page.content()\n",
    "\n",
    "    async def take_screenshot(self, path=\"screenshot.png\"):\n",
    "        await self.page.screenshot(path=path, full_page=True)\n",
    "        return path\n",
    "    async def screenshot_buffer(self):\n",
    "        screenshot_bytes = await self.page.screenshot(type=\"png\", full_page=False)\n",
    "        return screenshot_bytes\n",
    "\n",
    "    async def close(self):\n",
    "        await self.browser.close()\n",
    "        await self.playwright.stop()\n",
    "        self.playwright = None\n",
    "        self.browser = None\n",
    "        self.page = None"
   ]
  },
  {
   "cell_type": "code",
   "execution_count": 5,
   "id": "dd91085d-fe42-4c18-84e4-abb9f078f5c7",
   "metadata": {
    "height": 30
   },
   "outputs": [],
   "source": [
    "scraper = WebScraperAgent()"
   ]
  },
  {
   "cell_type": "code",
   "execution_count": 6,
   "id": "06de8d30",
   "metadata": {},
   "outputs": [
    {
     "data": {
      "text/plain": [
       "<__main__.WebScraperAgent at 0x26f209c6cf0>"
      ]
     },
     "execution_count": 6,
     "metadata": {},
     "output_type": "execute_result"
    }
   ],
   "source": [
    "scraper"
   ]
  },
  {
   "cell_type": "markdown",
   "id": "8b0a5e5b-9275-4671-9043-b67213ec68e2",
   "metadata": {},
   "source": [
    "## Structured Data Format"
   ]
  },
  {
   "cell_type": "code",
   "execution_count": 7,
   "id": "129881ea-22a9-4f98-a6b6-67f1431bad41",
   "metadata": {
    "height": 166
   },
   "outputs": [],
   "source": [
    "class DeeplearningCourse(BaseModel):\n",
    "    title: str\n",
    "    description: str\n",
    "    presenter: list[str]\n",
    "    imageUrl: str\n",
    "    courseURL: str\n",
    "\n",
    "class DeeplearningCourseList(BaseModel):\n",
    "    courses: list[DeeplearningCourse]"
   ]
  },
  {
   "cell_type": "markdown",
   "id": "417f82f0-5fdc-469b-9b3a-29f5b3abf2be",
   "metadata": {},
   "source": [
    "## LLM Client for Open AI"
   ]
  },
  {
   "cell_type": "code",
   "execution_count": 8,
   "id": "60eb54fb-948d-4ae2-bc35-a95a711413bf",
   "metadata": {
    "height": 421
   },
   "outputs": [],
   "source": [
    "async def process_with_llm(html, instructions, truncate = False):\n",
    "    completion = client.beta.chat.completions.parse(\n",
    "        model=\"gpt-4o-mini-2024-07-18\",\n",
    "        messages=[{\n",
    "            \"role\": \"system\",\n",
    "            \"content\": f\"\"\"\n",
    "            You are an expert web scraping agent. Your task is to:\n",
    "            Extract relevant information from this HTML to JSON \n",
    "            following these instructions:\n",
    "            {instructions}\n",
    "            \n",
    "            Extract the title, description, presenter, \n",
    "            the image URL and course URL for each of \n",
    "            all the courses for the deeplearning.ai website\n",
    "\n",
    "            Return ONLY valid JSON, no markdown or extra text.\"\"\"\n",
    "        }, {\n",
    "            \"role\": \"user\",\n",
    "            \"content\": html[:150000]  # Truncate to stay under token limits\n",
    "        }],\n",
    "        temperature=0.1,\n",
    "        response_format=DeeplearningCourseList,\n",
    "        )\n",
    "    return completion.choices[0].message.parsed"
   ]
  },
  {
   "cell_type": "code",
   "execution_count": 10,
   "id": "8e851d42-1437-4ae0-a8c7-c8d0ba1fb312",
   "metadata": {
    "height": 336
   },
   "outputs": [],
   "source": [
    "async def webscraper(target_url, instructions):\n",
    "    result = None\n",
    "    try:\n",
    "        # Scrape content and capture screenshot\n",
    "        print(\"Extracting HTML Content \\n\")\n",
    "        html_content = await scraper.scrape_content(target_url)\n",
    "\n",
    "        print(\"Taking Screenshot \\n\")\n",
    "        screenshot = await scraper.screenshot_buffer()\n",
    "        # Process content\n",
    "\n",
    "        print(\"Processing..\")\n",
    "        result: DeeplearningCourseList = await process_with_llm(html_content, instructions, False)\n",
    "        print(\"\\nGenerated Structured Response\")\n",
    "    except Exception as e:\n",
    "        print(f\"❌ Error: {str(e)}\")\n",
    "    finally:\n",
    "        await scraper.close()\n",
    "    return result, screenshot"
   ]
  },
  {
   "cell_type": "code",
   "execution_count": 19,
   "id": "8630c7d1",
   "metadata": {},
   "outputs": [
    {
     "ename": "NotImplementedError",
     "evalue": "",
     "output_type": "error",
     "traceback": [
      "\u001b[31m---------------------------------------------------------------------------\u001b[39m",
      "\u001b[31mNotImplementedError\u001b[39m                       Traceback (most recent call last)",
      "\u001b[36mCell\u001b[39m\u001b[36m \u001b[39m\u001b[32mIn[19]\u001b[39m\u001b[32m, line 1\u001b[39m\n\u001b[32m----> \u001b[39m\u001b[32m1\u001b[39m playwright1 = \u001b[38;5;28;01mawait\u001b[39;00m async_playwright().start()\n",
      "\u001b[36mFile \u001b[39m\u001b[32mc:\\Users\\nmmar\\Documents\\repos\\healthymomsaction\\unfpa-partners\\.venv\\Lib\\site-packages\\playwright\\async_api\\_context_manager.py:51\u001b[39m, in \u001b[36mPlaywrightContextManager.start\u001b[39m\u001b[34m(self)\u001b[39m\n\u001b[32m     50\u001b[39m \u001b[38;5;28;01masync\u001b[39;00m \u001b[38;5;28;01mdef\u001b[39;00m\u001b[38;5;250m \u001b[39m\u001b[34mstart\u001b[39m(\u001b[38;5;28mself\u001b[39m) -> AsyncPlaywright:\n\u001b[32m---> \u001b[39m\u001b[32m51\u001b[39m     \u001b[38;5;28;01mreturn\u001b[39;00m \u001b[38;5;28;01mawait\u001b[39;00m \u001b[38;5;28mself\u001b[39m.\u001b[34m__aenter__\u001b[39m()\n",
      "\u001b[36mFile \u001b[39m\u001b[32mc:\\Users\\nmmar\\Documents\\repos\\healthymomsaction\\unfpa-partners\\.venv\\Lib\\site-packages\\playwright\\async_api\\_context_manager.py:46\u001b[39m, in \u001b[36mPlaywrightContextManager.__aenter__\u001b[39m\u001b[34m(self)\u001b[39m\n\u001b[32m     44\u001b[39m \u001b[38;5;28;01mif\u001b[39;00m \u001b[38;5;129;01mnot\u001b[39;00m playwright_future.done():\n\u001b[32m     45\u001b[39m     playwright_future.cancel()\n\u001b[32m---> \u001b[39m\u001b[32m46\u001b[39m playwright = AsyncPlaywright(\u001b[38;5;28;43mnext\u001b[39;49m\u001b[43m(\u001b[49m\u001b[38;5;28;43miter\u001b[39;49m\u001b[43m(\u001b[49m\u001b[43mdone\u001b[49m\u001b[43m)\u001b[49m\u001b[43m)\u001b[49m\u001b[43m.\u001b[49m\u001b[43mresult\u001b[49m\u001b[43m(\u001b[49m\u001b[43m)\u001b[49m)\n\u001b[32m     47\u001b[39m playwright.stop = \u001b[38;5;28mself\u001b[39m.\u001b[34m__aexit__\u001b[39m  \u001b[38;5;66;03m# type: ignore\u001b[39;00m\n\u001b[32m     48\u001b[39m \u001b[38;5;28;01mreturn\u001b[39;00m playwright\n",
      "\u001b[36mFile \u001b[39m\u001b[32mC:\\Program Files\\WindowsApps\\PythonSoftwareFoundation.Python.3.13_3.13.1008.0_x64__qbz5n2kfra8p0\\Lib\\asyncio\\futures.py:199\u001b[39m, in \u001b[36mFuture.result\u001b[39m\u001b[34m(self)\u001b[39m\n\u001b[32m    197\u001b[39m \u001b[38;5;28mself\u001b[39m.__log_traceback = \u001b[38;5;28;01mFalse\u001b[39;00m\n\u001b[32m    198\u001b[39m \u001b[38;5;28;01mif\u001b[39;00m \u001b[38;5;28mself\u001b[39m._exception \u001b[38;5;129;01mis\u001b[39;00m \u001b[38;5;129;01mnot\u001b[39;00m \u001b[38;5;28;01mNone\u001b[39;00m:\n\u001b[32m--> \u001b[39m\u001b[32m199\u001b[39m     \u001b[38;5;28;01mraise\u001b[39;00m \u001b[38;5;28mself\u001b[39m._exception.with_traceback(\u001b[38;5;28mself\u001b[39m._exception_tb)\n\u001b[32m    200\u001b[39m \u001b[38;5;28;01mreturn\u001b[39;00m \u001b[38;5;28mself\u001b[39m._result\n",
      "\u001b[36mFile \u001b[39m\u001b[32mc:\\Users\\nmmar\\Documents\\repos\\healthymomsaction\\unfpa-partners\\.venv\\Lib\\site-packages\\playwright\\_impl\\_transport.py:120\u001b[39m, in \u001b[36mPipeTransport.connect\u001b[39m\u001b[34m(self)\u001b[39m\n\u001b[32m    117\u001b[39m         startupinfo.wShowWindow = subprocess.SW_HIDE\n\u001b[32m    119\u001b[39m     executable_path, entrypoint_path = compute_driver_executable()\n\u001b[32m--> \u001b[39m\u001b[32m120\u001b[39m     \u001b[38;5;28mself\u001b[39m._proc = \u001b[38;5;28;01mawait\u001b[39;00m asyncio.create_subprocess_exec(\n\u001b[32m    121\u001b[39m         executable_path,\n\u001b[32m    122\u001b[39m         entrypoint_path,\n\u001b[32m    123\u001b[39m         \u001b[33m\"\u001b[39m\u001b[33mrun-driver\u001b[39m\u001b[33m\"\u001b[39m,\n\u001b[32m    124\u001b[39m         stdin=asyncio.subprocess.PIPE,\n\u001b[32m    125\u001b[39m         stdout=asyncio.subprocess.PIPE,\n\u001b[32m    126\u001b[39m         stderr=_get_stderr_fileno(),\n\u001b[32m    127\u001b[39m         limit=\u001b[32m32768\u001b[39m,\n\u001b[32m    128\u001b[39m         env=env,\n\u001b[32m    129\u001b[39m         startupinfo=startupinfo,\n\u001b[32m    130\u001b[39m     )\n\u001b[32m    131\u001b[39m \u001b[38;5;28;01mexcept\u001b[39;00m \u001b[38;5;167;01mException\u001b[39;00m \u001b[38;5;28;01mas\u001b[39;00m exc:\n\u001b[32m    132\u001b[39m     \u001b[38;5;28mself\u001b[39m.on_error_future.set_exception(exc)\n",
      "\u001b[36mFile \u001b[39m\u001b[32mC:\\Program Files\\WindowsApps\\PythonSoftwareFoundation.Python.3.13_3.13.1008.0_x64__qbz5n2kfra8p0\\Lib\\asyncio\\subprocess.py:224\u001b[39m, in \u001b[36mcreate_subprocess_exec\u001b[39m\u001b[34m(program, stdin, stdout, stderr, limit, *args, **kwds)\u001b[39m\n\u001b[32m    221\u001b[39m loop = events.get_running_loop()\n\u001b[32m    222\u001b[39m protocol_factory = \u001b[38;5;28;01mlambda\u001b[39;00m: SubprocessStreamProtocol(limit=limit,\n\u001b[32m    223\u001b[39m                                                     loop=loop)\n\u001b[32m--> \u001b[39m\u001b[32m224\u001b[39m transport, protocol = \u001b[38;5;28;01mawait\u001b[39;00m loop.subprocess_exec(\n\u001b[32m    225\u001b[39m     protocol_factory,\n\u001b[32m    226\u001b[39m     program, *args,\n\u001b[32m    227\u001b[39m     stdin=stdin, stdout=stdout,\n\u001b[32m    228\u001b[39m     stderr=stderr, **kwds)\n\u001b[32m    229\u001b[39m \u001b[38;5;28;01mreturn\u001b[39;00m Process(transport, protocol, loop)\n",
      "\u001b[36mFile \u001b[39m\u001b[32mC:\\Program Files\\WindowsApps\\PythonSoftwareFoundation.Python.3.13_3.13.1008.0_x64__qbz5n2kfra8p0\\Lib\\asyncio\\base_events.py:1788\u001b[39m, in \u001b[36mBaseEventLoop.subprocess_exec\u001b[39m\u001b[34m(self, protocol_factory, program, stdin, stdout, stderr, universal_newlines, shell, bufsize, encoding, errors, text, *args, **kwargs)\u001b[39m\n\u001b[32m   1786\u001b[39m     debug_log = \u001b[33mf\u001b[39m\u001b[33m'\u001b[39m\u001b[33mexecute program \u001b[39m\u001b[38;5;132;01m{\u001b[39;00mprogram\u001b[38;5;132;01m!r}\u001b[39;00m\u001b[33m'\u001b[39m\n\u001b[32m   1787\u001b[39m     \u001b[38;5;28mself\u001b[39m._log_subprocess(debug_log, stdin, stdout, stderr)\n\u001b[32m-> \u001b[39m\u001b[32m1788\u001b[39m transport = \u001b[38;5;28;01mawait\u001b[39;00m \u001b[38;5;28mself\u001b[39m._make_subprocess_transport(\n\u001b[32m   1789\u001b[39m     protocol, popen_args, \u001b[38;5;28;01mFalse\u001b[39;00m, stdin, stdout, stderr,\n\u001b[32m   1790\u001b[39m     bufsize, **kwargs)\n\u001b[32m   1791\u001b[39m \u001b[38;5;28;01mif\u001b[39;00m \u001b[38;5;28mself\u001b[39m._debug \u001b[38;5;129;01mand\u001b[39;00m debug_log \u001b[38;5;129;01mis\u001b[39;00m \u001b[38;5;129;01mnot\u001b[39;00m \u001b[38;5;28;01mNone\u001b[39;00m:\n\u001b[32m   1792\u001b[39m     logger.info(\u001b[33m'\u001b[39m\u001b[38;5;132;01m%s\u001b[39;00m\u001b[33m: \u001b[39m\u001b[38;5;132;01m%r\u001b[39;00m\u001b[33m'\u001b[39m, debug_log, transport)\n",
      "\u001b[36mFile \u001b[39m\u001b[32mC:\\Program Files\\WindowsApps\\PythonSoftwareFoundation.Python.3.13_3.13.1008.0_x64__qbz5n2kfra8p0\\Lib\\asyncio\\base_events.py:533\u001b[39m, in \u001b[36mBaseEventLoop._make_subprocess_transport\u001b[39m\u001b[34m(self, protocol, args, shell, stdin, stdout, stderr, bufsize, extra, **kwargs)\u001b[39m\n\u001b[32m    529\u001b[39m \u001b[38;5;28;01masync\u001b[39;00m \u001b[38;5;28;01mdef\u001b[39;00m\u001b[38;5;250m \u001b[39m\u001b[34m_make_subprocess_transport\u001b[39m(\u001b[38;5;28mself\u001b[39m, protocol, args, shell,\n\u001b[32m    530\u001b[39m                                      stdin, stdout, stderr, bufsize,\n\u001b[32m    531\u001b[39m                                      extra=\u001b[38;5;28;01mNone\u001b[39;00m, **kwargs):\n\u001b[32m    532\u001b[39m \u001b[38;5;250m    \u001b[39m\u001b[33;03m\"\"\"Create subprocess transport.\"\"\"\u001b[39;00m\n\u001b[32m--> \u001b[39m\u001b[32m533\u001b[39m     \u001b[38;5;28;01mraise\u001b[39;00m \u001b[38;5;167;01mNotImplementedError\u001b[39;00m\n",
      "\u001b[31mNotImplementedError\u001b[39m: "
     ]
    }
   ],
   "source": [
    "playwright1 = await async_playwright().start()\n"
   ]
  },
  {
   "cell_type": "code",
   "execution_count": null,
   "id": "a71e3fff",
   "metadata": {},
   "outputs": [
    {
     "ename": "AttributeError",
     "evalue": "'coroutine' object has no attribute 'chromium'",
     "output_type": "error",
     "traceback": [
      "\u001b[31m---------------------------------------------------------------------------\u001b[39m",
      "\u001b[31mAttributeError\u001b[39m                            Traceback (most recent call last)",
      "\u001b[36mCell\u001b[39m\u001b[36m \u001b[39m\u001b[32mIn[17]\u001b[39m\u001b[32m, line 1\u001b[39m\n\u001b[32m----> \u001b[39m\u001b[32m1\u001b[39m browser = \u001b[43mplaywright1\u001b[49m\u001b[43m.\u001b[49m\u001b[43mchromium\u001b[49m.launch(\n\u001b[32m      2\u001b[39m     headless=\u001b[38;5;28;01mTrue\u001b[39;00m,\n\u001b[32m      3\u001b[39m     args=[\n\u001b[32m      4\u001b[39m         \u001b[33m\"\u001b[39m\u001b[33m--disable-dev-shm-usage\u001b[39m\u001b[33m\"\u001b[39m,\n\u001b[32m      5\u001b[39m         \u001b[33m\"\u001b[39m\u001b[33m--no-sandbox\u001b[39m\u001b[33m\"\u001b[39m,\n\u001b[32m      6\u001b[39m         \u001b[33m\"\u001b[39m\u001b[33m--disable-setuid-sandbox\u001b[39m\u001b[33m\"\u001b[39m,\n\u001b[32m      7\u001b[39m         \u001b[33m\"\u001b[39m\u001b[33m--disable-accelerated-2d-canvas\u001b[39m\u001b[33m\"\u001b[39m,\n\u001b[32m      8\u001b[39m         \u001b[33m\"\u001b[39m\u001b[33m--disable-gpu\u001b[39m\u001b[33m\"\u001b[39m,\n\u001b[32m      9\u001b[39m         \u001b[33m\"\u001b[39m\u001b[33m--no-zygote\u001b[39m\u001b[33m\"\u001b[39m,\n\u001b[32m     10\u001b[39m         \u001b[33m\"\u001b[39m\u001b[33m--disable-audio-output\u001b[39m\u001b[33m\"\u001b[39m,\n\u001b[32m     11\u001b[39m         \u001b[33m\"\u001b[39m\u001b[33m--disable-software-rasterizer\u001b[39m\u001b[33m\"\u001b[39m,\n\u001b[32m     12\u001b[39m         \u001b[33m\"\u001b[39m\u001b[33m--disable-webgl\u001b[39m\u001b[33m\"\u001b[39m,\n\u001b[32m     13\u001b[39m         \u001b[33m\"\u001b[39m\u001b[33m--disable-web-security\u001b[39m\u001b[33m\"\u001b[39m,\n\u001b[32m     14\u001b[39m         \u001b[33m\"\u001b[39m\u001b[33m--disable-features=LazyFrameLoading\u001b[39m\u001b[33m\"\u001b[39m,\n\u001b[32m     15\u001b[39m         \u001b[33m\"\u001b[39m\u001b[33m--disable-features=IsolateOrigins\u001b[39m\u001b[33m\"\u001b[39m,\n\u001b[32m     16\u001b[39m         \u001b[33m\"\u001b[39m\u001b[33m--disable-background-networking\u001b[39m\u001b[33m\"\u001b[39m,\n\u001b[32m     17\u001b[39m     ],\n\u001b[32m     18\u001b[39m )\n",
      "\u001b[31mAttributeError\u001b[39m: 'coroutine' object has no attribute 'chromium'"
     ]
    }
   ],
   "source": []
  },
  {
   "cell_type": "markdown",
   "id": "4bb770a7-4262-4d16-b1f5-bdf6d809bcde",
   "metadata": {},
   "source": [
    "## Example 1"
   ]
  },
  {
   "cell_type": "code",
   "execution_count": 12,
   "id": "080d1f85-d72d-4c84-8b92-47f18ffb71f6",
   "metadata": {
    "height": 47
   },
   "outputs": [],
   "source": [
    "target_url = \"https://www.deeplearning.ai/courses\"  # Deeplearning AI courses\n",
    "base_url=\"https://deeplearning.ai\""
   ]
  },
  {
   "cell_type": "code",
   "execution_count": 13,
   "id": "915186ff-5591-4e4f-b717-b4ec9f792820",
   "metadata": {
    "height": 81
   },
   "outputs": [
    {
     "name": "stdout",
     "output_type": "stream",
     "text": [
      "Extracting HTML Content \n",
      "\n",
      "❌ Error: \n"
     ]
    },
    {
     "ename": "AttributeError",
     "evalue": "'NoneType' object has no attribute 'close'",
     "output_type": "error",
     "traceback": [
      "\u001b[31m---------------------------------------------------------------------------\u001b[39m",
      "\u001b[31mAttributeError\u001b[39m                            Traceback (most recent call last)",
      "\u001b[36mCell\u001b[39m\u001b[36m \u001b[39m\u001b[32mIn[13]\u001b[39m\u001b[32m, line 4\u001b[39m\n\u001b[32m      1\u001b[39m instructions = \u001b[33m\"\"\"\u001b[39m\n\u001b[32m      2\u001b[39m \u001b[33m    Get all the courses\u001b[39m\n\u001b[32m      3\u001b[39m \u001b[33m\"\"\"\u001b[39m\n\u001b[32m----> \u001b[39m\u001b[32m4\u001b[39m result, screenshot = \u001b[38;5;28;01mawait\u001b[39;00m webscraper(target_url, instructions)\n",
      "\u001b[36mCell\u001b[39m\u001b[36m \u001b[39m\u001b[32mIn[10]\u001b[39m\u001b[32m, line 18\u001b[39m, in \u001b[36mwebscraper\u001b[39m\u001b[34m(target_url, instructions)\u001b[39m\n\u001b[32m     16\u001b[39m     \u001b[38;5;28mprint\u001b[39m(\u001b[33mf\u001b[39m\u001b[33m\"\u001b[39m\u001b[33m❌ Error: \u001b[39m\u001b[38;5;132;01m{\u001b[39;00m\u001b[38;5;28mstr\u001b[39m(e)\u001b[38;5;132;01m}\u001b[39;00m\u001b[33m\"\u001b[39m)\n\u001b[32m     17\u001b[39m \u001b[38;5;28;01mfinally\u001b[39;00m:\n\u001b[32m---> \u001b[39m\u001b[32m18\u001b[39m     \u001b[38;5;28;01mawait\u001b[39;00m scraper.close()\n\u001b[32m     19\u001b[39m \u001b[38;5;28;01mreturn\u001b[39;00m result, screenshot\n",
      "\u001b[36mCell\u001b[39m\u001b[36m \u001b[39m\u001b[32mIn[4]\u001b[39m\u001b[32m, line 44\u001b[39m, in \u001b[36mWebScraperAgent.close\u001b[39m\u001b[34m(self)\u001b[39m\n\u001b[32m     43\u001b[39m \u001b[38;5;28;01masync\u001b[39;00m \u001b[38;5;28;01mdef\u001b[39;00m\u001b[38;5;250m \u001b[39m\u001b[34mclose\u001b[39m(\u001b[38;5;28mself\u001b[39m):\n\u001b[32m---> \u001b[39m\u001b[32m44\u001b[39m     \u001b[38;5;28;01mawait\u001b[39;00m \u001b[38;5;28;43mself\u001b[39;49m\u001b[43m.\u001b[49m\u001b[43mbrowser\u001b[49m\u001b[43m.\u001b[49m\u001b[43mclose\u001b[49m()\n\u001b[32m     45\u001b[39m     \u001b[38;5;28;01mawait\u001b[39;00m \u001b[38;5;28mself\u001b[39m.playwright.stop()\n\u001b[32m     46\u001b[39m     \u001b[38;5;28mself\u001b[39m.playwright = \u001b[38;5;28;01mNone\u001b[39;00m\n",
      "\u001b[31mAttributeError\u001b[39m: 'NoneType' object has no attribute 'close'"
     ]
    }
   ],
   "source": [
    "instructions = \"\"\"\n",
    "    Get all the courses\n",
    "\"\"\"\n",
    "result, screenshot = await webscraper(target_url, instructions)"
   ]
  },
  {
   "cell_type": "code",
   "execution_count": null,
   "id": "80f933ca-80ac-4b2c-94c6-568d73889c8b",
   "metadata": {
    "height": 98
   },
   "outputs": [],
   "source": [
    "await visualizeCourses(result=result, \n",
    "                       screenshot=screenshot, \n",
    "                       target_url=target_url, \n",
    "                       instructions=instructions, \n",
    "                       base_url=base_url)"
   ]
  },
  {
   "cell_type": "markdown",
   "id": "7f03c76c-cea6-41a2-b935-de2982d33910",
   "metadata": {},
   "source": [
    "## Example with RAG courses"
   ]
  },
  {
   "cell_type": "code",
   "execution_count": null,
   "id": "41b08be3-7249-4152-8a29-e91a2364dffb",
   "metadata": {
    "height": 166
   },
   "outputs": [],
   "source": [
    "subject = \"Retrieval Augmented Generation (RAG) \"\n",
    "\n",
    "instructions = f\"\"\"\n",
    "Read the description of the courses and only \n",
    "provide the three courses that are about {subject}. \n",
    "Make sure that we don't have any other\n",
    "cources in the output\n",
    "\"\"\"\n",
    "result, screenshot = await webscraper(target_url, instructions)"
   ]
  },
  {
   "cell_type": "code",
   "execution_count": null,
   "id": "67efd225-7b8b-4464-890e-734e64028cc9",
   "metadata": {
    "height": 98
   },
   "outputs": [],
   "source": [
    "await visualizeCourses(result=result, \n",
    "                       screenshot=screenshot, \n",
    "                       target_url=target_url, \n",
    "                       instructions=instructions, \n",
    "                       base_url=base_url)"
   ]
  },
  {
   "cell_type": "markdown",
   "id": "81298336-833d-4745-977b-eb2b36fe85e4",
   "metadata": {},
   "source": [
    "## Challenges in the web agents"
   ]
  },
  {
   "cell_type": "code",
   "execution_count": null,
   "id": "5699b17a-105b-4c9f-b8b0-64eaa55862ca",
   "metadata": {
    "height": 115
   },
   "outputs": [],
   "source": [
    "subject = \"Retrieval Augmented Generation (RAG) \"\n",
    "instructions = f\"\"\"\n",
    "Can you get the summary of the top course on\n",
    "{subject} provide the learnings from it\n",
    "\"\"\"\n",
    "result, screenshot = await webscraper(target_url, instructions)"
   ]
  },
  {
   "cell_type": "code",
   "execution_count": null,
   "id": "9c5cb314-7323-404e-99ca-a3184fd496b4",
   "metadata": {
    "height": 98
   },
   "outputs": [],
   "source": [
    "await visualizeCourses(result=result,\n",
    "                       screenshot=screenshot,\n",
    "                       target_url=target_url,\n",
    "                       instructions=instructions,\n",
    "                       base_url=base_url)"
   ]
  },
  {
   "cell_type": "code",
   "execution_count": 39,
   "id": "c21de71e-7a13-4ef1-bf14-4331d6722f8a",
   "metadata": {
    "height": 30
   },
   "outputs": [],
   "source": [
    "async def run(playwright):\n",
    "    chromium = playwright.firefox  # or \"firefox\" or \"webkit\".\n",
    "    browser = await chromium.launch()\n",
    "    page = await browser.new_page()\n",
    "    await page.goto(\"http://google.com\")\n",
    "    await page.screenshot(path=\"example.png\")\n",
    "    await browser.close()\n"
   ]
  },
  {
   "cell_type": "code",
   "execution_count": 40,
   "id": "50ec00a0-b443-4112-bd6e-e02939f45316",
   "metadata": {
    "height": 30
   },
   "outputs": [],
   "source": [
    "playwright = async_playwright().start()\n"
   ]
  },
  {
   "cell_type": "code",
   "execution_count": 41,
   "id": "a8bac057-7d88-43bf-81df-932da7cd6fb1",
   "metadata": {
    "height": 30
   },
   "outputs": [
    {
     "data": {
      "text/plain": [
       "<coroutine object run at 0x0000026F22D3B840>"
      ]
     },
     "execution_count": 41,
     "metadata": {},
     "output_type": "execute_result"
    }
   ],
   "source": [
    "run(playwright)\n"
   ]
  },
  {
   "cell_type": "code",
   "execution_count": 31,
   "id": "539f3c70-d481-4519-a997-0001842ac82a",
   "metadata": {
    "height": 30
   },
   "outputs": [
    {
     "ename": "AttributeError",
     "evalue": "'coroutine' object has no attribute 'stop'",
     "output_type": "error",
     "traceback": [
      "\u001b[31m---------------------------------------------------------------------------\u001b[39m",
      "\u001b[31mAttributeError\u001b[39m                            Traceback (most recent call last)",
      "\u001b[36mCell\u001b[39m\u001b[36m \u001b[39m\u001b[32mIn[31]\u001b[39m\u001b[32m, line 1\u001b[39m\n\u001b[32m----> \u001b[39m\u001b[32m1\u001b[39m \u001b[43mplaywright\u001b[49m\u001b[43m.\u001b[49m\u001b[43mstop\u001b[49m()\n",
      "\u001b[31mAttributeError\u001b[39m: 'coroutine' object has no attribute 'stop'"
     ]
    }
   ],
   "source": [
    "playwright.stop()\n"
   ]
  },
  {
   "cell_type": "code",
   "execution_count": null,
   "id": "18f1a1c9-c20a-4f5a-be4d-26a9b73052a5",
   "metadata": {
    "height": 30
   },
   "outputs": [],
   "source": []
  }
 ],
 "metadata": {
  "kernelspec": {
   "display_name": ".venv",
   "language": "python",
   "name": "python3"
  },
  "language_info": {
   "codemirror_mode": {
    "name": "ipython",
    "version": 3
   },
   "file_extension": ".py",
   "mimetype": "text/x-python",
   "name": "python",
   "nbconvert_exporter": "python",
   "pygments_lexer": "ipython3",
   "version": "3.13.3"
  }
 },
 "nbformat": 4,
 "nbformat_minor": 5
}

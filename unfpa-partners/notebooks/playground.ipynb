{
 "cells": [
  {
   "cell_type": "code",
   "execution_count": null,
   "id": "b3afc299",
   "metadata": {},
   "outputs": [
    {
     "name": "stdout",
     "output_type": "stream",
     "text": [
      "10\n",
      "-1\n"
     ]
    }
   ],
   "source": [
    "def add(a, b):\n",
    "    return a + b\n",
    "\n",
    "\n",
    "def substract(a, b):\n",
    "    return a - b\n",
    "\n",
    "\n",
    "print(add(4, 6))\n",
    "print(substract(4, 5))\n"
   ]
  },
  {
   "cell_type": "code",
   "execution_count": null,
   "id": "d7b81730",
   "metadata": {},
   "outputs": [],
   "source": [
    "import pandas\n",
    "import openai\n",
    "import pydantic\n",
    "import requests\n",
    "import dotenv\n",
    "import ipykernel\n",
    "\n",
    "print(ipykernel.__version__)\n",
    "print(dotenv.__version__)\n",
    "print(pandas.__version__)\n",
    "print(openai.__version__)\n",
    "print(pydantic.__version__)\n",
    "print(requests.__version__)\n"
   ]
  }
 ],
 "metadata": {
  "kernelspec": {
   "display_name": ".venv",
   "language": "python",
   "name": "python3"
  },
  "language_info": {
   "codemirror_mode": {
    "name": "ipython",
    "version": 3
   },
   "file_extension": ".py",
   "mimetype": "text/x-python",
   "name": "python",
   "nbconvert_exporter": "python",
   "pygments_lexer": "ipython3",
   "version": "3.13.3"
  }
 },
 "nbformat": 4,
 "nbformat_minor": 5
}
